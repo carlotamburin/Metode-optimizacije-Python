{
 "cells": [
  {
   "cell_type": "markdown",
   "metadata": {},
   "source": [
    "# I/O\n",
    "\n",
    " **standardni ulaz i izlaz**\n",
    " \n",
    "- `print expr1, expr2` objekt bilo kojeg tipa konvertira u string\n",
    "- u Python 3.x print je funkcija\n",
    "- `input(), raw_input()`, Python 3.x samo `input()`\n",
    "- Python 2.x\n",
    "- `raw\\_input()} vraća string\n",
    "- `input()` izvodi `eval()` na stringu"
   ]
  },
  {
   "cell_type": "code",
   "execution_count": 1,
   "metadata": {},
   "outputs": [
    {
     "name": "stdout",
     "output_type": "stream",
     "text": [
      "\n"
     ]
    }
   ],
   "source": [
    "a = input()"
   ]
  },
  {
   "cell_type": "code",
   "execution_count": 2,
   "metadata": {},
   "outputs": [
    {
     "ename": "TypeError",
     "evalue": "can only concatenate str (not \"int\") to str",
     "output_type": "error",
     "traceback": [
      "\u001b[0;31m---------------------------------------------------------------------------\u001b[0m",
      "\u001b[0;31mTypeError\u001b[0m                                 Traceback (most recent call last)",
      "\u001b[0;32m<ipython-input-2-ec0b925f0488>\u001b[0m in \u001b[0;36m<module>\u001b[0;34m\u001b[0m\n\u001b[0;32m----> 1\u001b[0;31m \u001b[0ma\u001b[0m \u001b[0;34m+\u001b[0m \u001b[0;36m2\u001b[0m \u001b[0;31m#error\u001b[0m\u001b[0;34m\u001b[0m\u001b[0;34m\u001b[0m\u001b[0m\n\u001b[0m",
      "\u001b[0;31mTypeError\u001b[0m: can only concatenate str (not \"int\") to str"
     ]
    }
   ],
   "source": [
    "a + 2 #error"
   ]
  },
  {
   "cell_type": "code",
   "execution_count": 3,
   "metadata": {},
   "outputs": [
    {
     "data": {
      "text/plain": [
       "'2'"
      ]
     },
     "execution_count": 3,
     "metadata": {},
     "output_type": "execute_result"
    }
   ],
   "source": [
    "a + '2'"
   ]
  },
  {
   "cell_type": "markdown",
   "metadata": {},
   "source": [
    "**standardni ulaz i izla**\n",
    " \n",
    "- Python 3.x\n",
    "  \n",
    " - `input()` vraća string\n",
    " - za evaluaciju `eval(input())`"
   ]
  },
  {
   "cell_type": "code",
   "execution_count": 5,
   "metadata": {},
   "outputs": [
    {
     "name": "stdin",
     "output_type": "stream",
     "text": [
      " 12\n"
     ]
    }
   ],
   "source": [
    "a = eval(input())"
   ]
  },
  {
   "cell_type": "code",
   "execution_count": 6,
   "metadata": {},
   "outputs": [
    {
     "data": {
      "text/plain": [
       "13"
      ]
     },
     "execution_count": 6,
     "metadata": {},
     "output_type": "execute_result"
    }
   ],
   "source": [
    "a + 1"
   ]
  },
  {
   "cell_type": "markdown",
   "metadata": {},
   "source": [
    "# Rad s datotekama\n",
    " **File objekt**\n",
    "\n",
    " - kreira se sa `open()`\n",
    " - čitanje blok po blok ili liniju po liniju \n",
    " - pisanje\n",
    " - seek\n",
    " - flush\n",
    " - zatvaranje s `close` ili garbage collector\n",
    "\n",
    " \n",
    "\n",
    "\n",
    " **Otvaranje datoteke**\n",
    " `file_object = open(name [, mode])`\n",
    " \n",
    "- `name` je ime datoteke\n",
    "- `mode` je mod otvaranja (`r`, `w`, `a`, `r+`, `w+`, `b`)\n",
    "- `file_object` je iterabilan "
   ]
  },
  {
   "cell_type": "code",
   "execution_count": 7,
   "metadata": {},
   "outputs": [],
   "source": [
    "f = open(\"01_uvod.ipynb\")"
   ]
  },
  {
   "cell_type": "code",
   "execution_count": 8,
   "metadata": {},
   "outputs": [
    {
     "data": {
      "text/plain": [
       "<_io.TextIOWrapper name='01_uvod.ipynb' mode='r' encoding='UTF-8'>"
      ]
     },
     "execution_count": 8,
     "metadata": {},
     "output_type": "execute_result"
    }
   ],
   "source": [
    "f"
   ]
  },
  {
   "cell_type": "code",
   "execution_count": 9,
   "metadata": {},
   "outputs": [
    {
     "data": {
      "text/plain": [
       "'01_uvod.ipynb'"
      ]
     },
     "execution_count": 9,
     "metadata": {},
     "output_type": "execute_result"
    }
   ],
   "source": [
    "f.name"
   ]
  },
  {
   "cell_type": "code",
   "execution_count": 10,
   "metadata": {},
   "outputs": [
    {
     "data": {
      "text/plain": [
       "'r'"
      ]
     },
     "execution_count": 10,
     "metadata": {},
     "output_type": "execute_result"
    }
   ],
   "source": [
    "f.mode"
   ]
  },
  {
   "cell_type": "code",
   "execution_count": 11,
   "metadata": {},
   "outputs": [],
   "source": [
    "f.close()"
   ]
  },
  {
   "cell_type": "markdown",
   "metadata": {},
   "source": [
    " **Otvaranje datoteke**"
   ]
  },
  {
   "cell_type": "code",
   "execution_count": 13,
   "metadata": {
    "jupyter": {
     "outputs_hidden": true
    }
   },
   "outputs": [
    {
     "name": "stdout",
     "output_type": "stream",
     "text": [
      "{\n",
      " \"cells\": [\n",
      "  {\n",
      "   \"cell_type\": \"markdown\",\n",
      "   \"metadata\": {},\n",
      "   \"source\": [\n",
      "    \"# Naredbe\"\n",
      "   ]\n",
      "  },\n",
      "  {\n",
      "   \"cell_type\": \"markdown\",\n",
      "   \"metadata\": {},\n",
      "   \"source\": [\n",
      "    \"Python strogo odvaja naredbe i izraze. Naprimjer, pridjeljivanje (_assignment_) je naredba, nije izraz.\"\n",
      "   ]\n",
      "  },\n",
      "  {\n",
      "   \"cell_type\": \"markdown\",\n",
      "   \"metadata\": {},\n",
      "   \"source\": [\n",
      "    \"## Naredba `pass` \\n\",\n",
      "    \"* ne radi ništa\\n\",\n",
      "    \"\\n\",\n",
      "    \"## Naredba grananja `if`\"\n",
      "   ]\n",
      "  },\n",
      "  {\n",
      "   \"cell_type\": \"code\",\n",
      "   \"execution_count\": 3,\n",
      "   \"metadata\": {},\n",
      "   \"outputs\": [\n",
      "    {\n",
      "     \"name\": \"stdout\",\n",
      "     \"output_type\": \"stream\",\n",
      "     \"text\": [\n",
      "      \"Unesi n: 6\\n\",\n",
      "      \"pozitivan\\n\"\n",
      "     ]\n",
      "    }\n",
      "   ],\n",
      "   \"source\": [\n",
      "    \"n = int(input(\\\"Unesi n: \\\"))\\n\",\n",
      "    \"\\n\",\n",
      "    \"if n < 0:\\n\",\n",
      "    \"    print ('negativan')\\n\",\n",
      "    \"elif n > 0:\\n\",\n",
      "    \"    print ('pozitivan')\\n\",\n",
      "    \"else:\\n\",\n",
      "    \"    print ('nula') \"\n",
      "   ]\n",
      "  },\n",
      "  {\n",
      "   \"cell_type\": \"markdown\",\n",
      "   \"metadata\": {},\n",
      "   \"source\": [\n",
      "    \"## Naredbe iteracije `while`\"\n",
      "   ]\n",
      "  },\n",
      "  {\n",
      "   \"cell_type\": \"markdown\",\n",
      "   \"metadata\": {},\n",
      "   \"source\": [\n",
      "    \"`while izraz:\\n\",\n",
      "    \"    naredba_1\\n\",\n",
      "    \"    ...\\n\",\n",
      "    \"    naredba_n\\n\",\n",
      "    \"else \\n\",\n",
      "    \"    naredba__1\\n\",\n",
      "    \"    ...\\n\",\n",
      "    \"    naredba__n\\n\",\n",
      "    \"`\"\n",
      "   ]\n",
      "  },\n",
      "  {\n",
      "   \"cell_type\": \"markdown\",\n",
      "   \"metadata\": {},\n",
      "   \"source\": [\n",
      "    \"    * ako je izraz istinit, izvršavaju se naredbe unutar `while` bloka, te se proces ponavlja\\n\",\n",
      "    \"    * kad je izraz neistinit, izvršavaju se naredbe unutar `else` bloka\\n\",\n",
      "    \"    * ako iz `while` izađemo sa `break` ili exceptionom, `else` blok se ne izvršava\"\n",
      "   ]\n",
      "  },\n",
      "  {\n",
      "   \"cell_type\": \"code\",\n",
      "   \"execution_count\": 5,\n",
      "   \"metadata\": {},\n",
      "   \"outputs\": [\n",
      "    {\n",
      "     \"name\": \"stdout\",\n",
      "     \"output_type\": \"stream\",\n",
      "     \"text\": [\n",
      "      \"a = \\n\"\n",
      "     ]\n",
      "    },\n",
      "    {\n",
      "     \"ename\": \"ValueError\",\n",
      "     \"evalue\": \"invalid literal for int() with base 10: ''\",\n",
      "     \"output_type\": \"error\",\n",
      "     \"traceback\": [\n",
      "      \"\\u001b[0;31m---------------------------------------------------------------------------\\u001b[0m\",\n",
      "      \"\\u001b[0;31mValueError\\u001b[0m                                Traceback (most recent call last)\",\n",
      "      \"\\u001b[0;32m<ipython-input-5-49e442648f1b>\\u001b[0m in \\u001b[0;36m<module>\\u001b[0;34m\\u001b[0m\\n\\u001b[1;32m      1\\u001b[0m \\u001b[0;31m# najveci zajednicki djelitelj\\u001b[0m\\u001b[0;34m\\u001b[0m\\u001b[0;34m\\u001b[0m\\u001b[0;34m\\u001b[0m\\u001b[0m\\n\\u001b[0;32m----> 2\\u001b[0;31m \\u001b[0ma\\u001b[0m \\u001b[0;34m=\\u001b[0m \\u001b[0mint\\u001b[0m\\u001b[0;34m(\\u001b[0m\\u001b[0minput\\u001b[0m\\u001b[0;34m(\\u001b[0m\\u001b[0;34m\\\"a = \\\"\\u001b[0m\\u001b[0;34m)\\u001b[0m\\u001b[0;34m)\\u001b[0m\\u001b[0;34m\\u001b[0m\\u001b[0;34m\\u001b[0m\\u001b[0m\\n\\u001b[0m\\u001b[1;32m      3\\u001b[0m \\u001b[0mb\\u001b[0m \\u001b[0;34m=\\u001b[0m \\u001b[0mint\\u001b[0m\\u001b[0;34m(\\u001b[0m\\u001b[0minput\\u001b[0m\\u001b[0;34m(\\u001b[0m\\u001b[0;34m\\\"b = \\\"\\u001b[0m\\u001b[0;34m)\\u001b[0m\\u001b[0;34m)\\u001b[0m\\u001b[0;34m\\u001b[0m\\u001b[0;34m\\u001b[0m\\u001b[0m\\n\\u001b[1;32m      4\\u001b[0m \\u001b[0;32mwhile\\u001b[0m \\u001b[0mb\\u001b[0m \\u001b[0;34m!=\\u001b[0m \\u001b[0;36m0\\u001b[0m\\u001b[0;34m:\\u001b[0m\\u001b[0;34m\\u001b[0m\\u001b[0;34m\\u001b[0m\\u001b[0m\\n\\u001b[1;32m      5\\u001b[0m    \\u001b[0ma\\u001b[0m\\u001b[0;34m,\\u001b[0m \\u001b[0mb\\u001b[0m \\u001b[0;34m=\\u001b[0m \\u001b[0mb\\u001b[0m\\u001b[0;34m,\\u001b[0m \\u001b[0ma\\u001b[0m \\u001b[0;34m%\\u001b[0m \\u001b[0mb\\u001b[0m\\u001b[0;34m\\u001b[0m\\u001b[0;34m\\u001b[0m\\u001b[0m\\n\",\n",
      "      \"\\u001b[0;31mValueError\\u001b[0m: invalid literal for int() with base 10: ''\"\n",
      "     ]\n",
      "    }\n",
      "   ],\n",
      "   \"source\": [\n",
      "    \"# najveci zajednicki djelitelj\\n\",\n",
      "    \"a = int(input(\\\"a = \\\"))\\n\",\n",
      "    \"b = int(input(\\\"b = \\\"))\\n\",\n",
      "    \"while b != 0:\\n\",\n",
      "    \"   a, b = b, a % b\\n\",\n",
      "    \"\\n\",\n",
      "    \"print(\\\"NZD je \\\", a)\"\n",
      "   ]\n",
      "  },\n",
      "  {\n",
      "   \"cell_type\": \"code\",\n",
      "   \"execution_count\": 19,\n",
      "   \"metadata\": {},\n",
      "   \"outputs\": [\n",
      "    {\n",
      "     \"name\": \"stdout\",\n",
      "     \"output_type\": \"stream\",\n",
      "     \"text\": [\n",
      "      \"pogodi broj : 3\\n\",\n",
      "      \"broj je veci, pokusaj ponovo\\n\",\n",
      "      \"pogodi broj : 50\\n\",\n",
      "      \"broj je veci, pokusaj ponovo\\n\",\n",
      "      \"pogodi broj : 80\\n\",\n",
      "      \"broj je veci, pokusaj ponovo\\n\",\n",
      "      \"pogodi broj : 120\\n\",\n",
      "      \"broj je manji, pokusaj ponovo\\n\",\n",
      "      \"pogodi broj : 100\\n\",\n",
      "      \"bravo!\\n\"\n",
      "     ]\n",
      "    }\n",
      "   ],\n",
      "   \"source\": [\n",
      "    \"# pogadjanje brojeva\\n\",\n",
      "    \"n = 100\\n\",\n",
      "    \"\\n\",\n",
      "    \"guess = int(input('pogodi broj : '))\\n\",\n",
      "    \"\\n\",\n",
      "    \"while guess != n:\\n\",\n",
      "    \"    if guess < n:\\n\",\n",
      "    \"        print('broj je veci, pokusaj ponovo')\\n\",\n",
      "    \"        guess = int(input('pogodi broj : '))\\n\",\n",
      "    \"       \\n\",\n",
      "    \"    elif guess > n:\\n\",\n",
      "    \"        print('broj je manji, pokusaj ponovo') \\n\",\n",
      "    \"        guess = int(input('pogodi broj : '))\\n\",\n",
      "    \"print('bravo!')\"\n",
      "   ]\n",
      "  },\n",
      "  {\n",
      "   \"cell_type\": \"markdown\",\n",
      "   \"metadata\": {},\n",
      "   \"source\": [\n",
      "    \"## Naredba iteracije `for`\"\n",
      "   ]\n",
      "  },\n",
      "  {\n",
      "   \"cell_type\": \"markdown\",\n",
      "   \"metadata\": {},\n",
      "   \"source\": [\n",
      "    \"`for` iterira po sekvenci\"\n",
      "   ]\n",
      "  },\n",
      "  {\n",
      "   \"cell_type\": \"markdown\",\n",
      "   \"metadata\": {},\n",
      "   \"source\": [\n",
      "    \"`for <variable> in <sequence>:\\n\",\n",
      "    \"    <statements>\\n\",\n",
      "    \"else:\\n\",\n",
      "    \"    <statements> `\"\n",
      "   ]\n",
      "  },\n",
      "  {\n",
      "   \"cell_type\": \"code\",\n",
      "   \"execution_count\": 6,\n",
      "   \"metadata\": {},\n",
      "   \"outputs\": [\n",
      "    {\n",
      "     \"name\": \"stdout\",\n",
      "     \"output_type\": \"stream\",\n",
      "     \"text\": [\n",
      "      \"hr fr en 1 2 3 4 5 6 7 8 9 10 \"\n",
      "     ]\n",
      "    }\n",
      "   ],\n",
      "   \"source\": [\n",
      "    \"lang = [\\\"hr\\\", \\\"fr\\\", \\\"en\\\"];\\n\",\n",
      "    \"for x in lang:\\n\",\n",
      "    \"   print(x, end = ' ')\\n\",\n",
      "    \"   \\n\",\n",
      "    \"for x in range(1,11):\\n\",\n",
      "    \"   print(x, end = ' ')\"\n",
      "   ]\n",
      "  },\n",
      "  {\n",
      "   \"cell_type\": \"markdown\",\n",
      "   \"metadata\": {},\n",
      "   \"source\": [\n",
      "    \"## Naredba `break`\"\n",
      "   ]\n",
      "  },\n",
      "  {\n",
      "   \"cell_type\": \"markdown\",\n",
      "   \"metadata\": {},\n",
      "   \"source\": [\n",
      "    \"## Naredba `continue`\"\n",
      "   ]\n",
      "  },\n",
      "  {\n",
      "   \"cell_type\": \"markdown\",\n",
      "   \"metadata\": {},\n",
      "   \"source\": [\n",
      "    \"## Naredba `with`\"\n",
      "   ]\n",
      "  },\n",
      "  {\n",
      "   \"cell_type\": \"code\",\n",
      "   \"execution_count\": 15,\n",
      "   \"metadata\": {},\n",
      "   \"outputs\": [],\n",
      "   \"source\": [\n",
      "    \"with open(\\\"03_naredbe.ipynb\\\") as f:\\n\",\n",
      "    \"    data = f.read()\\n\",\n",
      "    \"    \\n\",\n",
      "    \"with open('output.txt', 'w') as f:\\n\",\n",
      "    \"    f.write(data)\"\n",
      "   ]\n",
      "  },\n",
      "  {\n",
      "   \"cell_type\": \"code\",\n",
      "   \"execution_count\": null,\n",
      "   \"metadata\": {},\n",
      "   \"outputs\": [],\n",
      "   \"source\": []\n",
      "  }\n",
      " ],\n",
      " \"metadata\": {\n",
      "  \"kernelspec\": {\n",
      "   \"display_name\": \"Python 3\",\n",
      "   \"language\": \"python\",\n",
      "   \"name\": \"python3\"\n",
      "  },\n",
      "  \"language_info\": {\n",
      "   \"codemirror_mode\": {\n",
      "    \"name\": \"ipython\",\n",
      "    \"version\": 3\n",
      "   },\n",
      "   \"file_extension\": \".py\",\n",
      "   \"mimetype\": \"text/x-python\",\n",
      "   \"name\": \"python\",\n",
      "   \"nbconvert_exporter\": \"python\",\n",
      "   \"pygments_lexer\": \"ipython3\",\n",
      "   \"version\": \"3.7.3\"\n",
      "  }\n",
      " },\n",
      " \"nbformat\": 4,\n",
      " \"nbformat_minor\": 4\n",
      "}\n"
     ]
    }
   ],
   "source": [
    "with open(\"output.txt\") as f:\n",
    "    for line in f:\n",
    "        print(line, end='')"
   ]
  },
  {
   "cell_type": "markdown",
   "metadata": {},
   "source": [
    "- Naredba `with` koristi *context manager*: poziva se metoda `__enter__`, izvršavaju se naredbe, na kraju se poziva metoda `exit` (zatvaranje datoteke)\n",
    "- Metoda `exit` se poziva i ako se dogodila iznimka prilikom izvođenja naredbi.\n",
    "\n",
    "**Lokacija datoteke**\n",
    "\n",
    "- Kad se navodi samo ime datoteke, ona se traži u tekućem direktoriju (engl.~*working directory*).\n",
    "- Lokacija datoteke može biti relativna u odnosu na tekući direktorij ili apsolutna.\n",
    "- OS-X, Linux, Unix: delimiter je `'/'`\n",
    "- Windows: delimiter je `'\\'` \n",
    "- koristiti `r('raw_string')` ili `'\\\\'`\n",
    "  \n",
    "\n",
    " \n",
    "\n",
    "**Čitanje iz datoteke**\n",
    "\n",
    "`block = f.read(n)` - čita najviše `n` bajtova, vraća string\n",
    "\n",
    "`block = f.read()` - čita čitavu datoteku, vraća string\n",
    "\n",
    "`line = f.readline()` - čita cijelu liniju, vraća string\n",
    "\n",
    "`line = f.readline(n)` - čita `n` linije\n",
    "\n",
    "`line = f.readlines()` - čita sve linije, vraća listu stringova\n",
    "\n",
    "`line = f.readlines(sizehint)` - čita `sizehint` bajtova, pa do kraja tekuće linije"
   ]
  },
  {
   "cell_type": "code",
   "execution_count": 1,
   "metadata": {},
   "outputs": [
    {
     "name": "stdout",
     "output_type": "stream",
     "text": [
      "https://www.dataquest.io/blog/jupyter-notebook-tutorial/ \n",
      "\n"
     ]
    }
   ],
   "source": [
    "f = open('upute.txt')\n",
    "while 1:\n",
    "    line = f.readline()\n",
    "    if line == '':\n",
    "        break\n",
    "    print (line)\n",
    "f.close()"
   ]
  },
  {
   "cell_type": "markdown",
   "metadata": {},
   "source": [
    "**Čitanje iz datoteke**\n",
    " \n",
    "- Za manje datoteke dobre su `read` funkcije.\n",
    "- Za veće datoteke dobro je koristiti iteriranje po file generatoru.\n"
   ]
  },
  {
   "cell_type": "code",
   "execution_count": null,
   "metadata": {},
   "outputs": [],
   "source": [
    "f = open('foo.txt')\n",
    "for line in f:\n",
    "    print (line)\n",
    "f.close() "
   ]
  },
  {
   "cell_type": "markdown",
   "metadata": {},
   "source": [
    "**Pisanje u datoteku**\n",
    "\n",
    "`f.write(s)`\n",
    "\n",
    "`print(s, file=f)`\n",
    " \n",
    " - piše string u datoteku\n",
    " - mora primiti string\n",
    " - pisanje se baferira, `flush` ili `close` će napraviti operaciju vidljivom\n",
    "\n",
    " \n",
    "\n",
    "\n",
    "**Operacije s datotekama**\n",
    "\n",
    " - prilikom čitanja datoteke dobije se string\n",
    " - za pisanje u datoteku također nam je potreban string\n",
    "\n",
    "Možemo koristiti modul `pickle`. \n",
    "\n",
    " - *pickling* je proces u kojem se hijerarhija objekata konvertira u byte stream\n",
    " - *unpickling* je proces u kojem se *byte stream* konverira nazad u hijerarhiju objekata\n",
    "\n",
    "Ostala imena za *pickling* su serijalizacja, *marshalling* ili *flattening* \n",
    "\n",
    "**pickle - primjer**"
   ]
  },
  {
   "cell_type": "code",
   "execution_count": 3,
   "metadata": {},
   "outputs": [
    {
     "name": "stdout",
     "output_type": "stream",
     "text": [
      "{1: 'kamen', 2: 'skare', 3: 'papir'} [2, 3, 'aaa']\n",
      "uspjesno procitana lista\n"
     ]
    }
   ],
   "source": [
    "import pickle\n",
    "\n",
    "def write_to_file(filename, d, lst):\n",
    "    f = open(filename, 'wb')\n",
    "    pickle.dump(d, f)\n",
    "    pickle.dump(lst,f)\n",
    "    f.close()\n",
    "    \n",
    "def read_from_file(filename):\n",
    "    f = open(filename, 'rb')\n",
    "    d = pickle.load(f)\n",
    "    l = pickle.load(f)\n",
    "    f.close()\n",
    "    return d, l \n",
    "\n",
    "def main():\n",
    "    name = 'test.txt'\n",
    "    d = {1:'kamen', 2:'skare', 3:'papir'}\n",
    "    l = [2, 3, 'aaa']\n",
    "    write_to_file(name, d, l)\n",
    "    d1, l1 = read_from_file(name)\n",
    "    print (d1, l)\n",
    "    \n",
    "    if l == l1:\n",
    "        print ('uspjesno procitana lista')\n",
    "        \n",
    "if __name__=='__main__':\n",
    "    main()"
   ]
  },
  {
   "cell_type": "markdown",
   "metadata": {},
   "source": [
    " **pickle - kraća verzija**"
   ]
  },
  {
   "cell_type": "code",
   "execution_count": null,
   "metadata": {},
   "outputs": [],
   "source": [
    "import pickle\n",
    "\n",
    "def main():\n",
    "    filename = 'test.txt'\n",
    "    d = {1:'kamen', 2:'skare', 3:'papir'}\n",
    "    lst = [2, 3, 'aaa']\n",
    "    \n",
    "    #pisanje u datoteku\n",
    "    with open(filename, 'w') as f:\n",
    "        pickle.dump((d,lst), f)\n",
    "    \n",
    "    #citanje iz datoteke\n",
    "    with open(filename, 'r') as f:\n",
    "        d1, l1 = pickle.load(f)\n",
    "        \n",
    "    if lst == l1:\n",
    "        print 'uspjesno procitana lista'\n",
    "        \n",
    "if __name__=='__main__':\n",
    "    main()"
   ]
  }
 ],
 "metadata": {
  "kernelspec": {
   "display_name": "Python 3",
   "language": "python",
   "name": "python3"
  },
  "language_info": {
   "codemirror_mode": {
    "name": "ipython",
    "version": 3
   },
   "file_extension": ".py",
   "mimetype": "text/x-python",
   "name": "python",
   "nbconvert_exporter": "python",
   "pygments_lexer": "ipython3",
   "version": "3.7.3"
  }
 },
 "nbformat": 4,
 "nbformat_minor": 4
}