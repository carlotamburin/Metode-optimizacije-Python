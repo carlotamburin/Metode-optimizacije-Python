{
 "cells": [
  {
   "cell_type": "markdown",
   "metadata": {},
   "source": [
    "# Dictionary"
   ]
  },
  {
   "cell_type": "markdown",
   "metadata": {},
   "source": [
    "* `mutabilne` data strukture koje mapiraju `key` i `value`\n",
    "* implementirani kao hash tabela, `key` mora biti *hashable* tj.~nemutabilan\n",
    "* operacije nad `dict`:\n",
    "    * `d[key]` - dohvaćanje elementa s ključem `key`\n",
    "    * `d[key] = value` - pridjeljivanje\n",
    "    * iteracija po ključu i vrijednostima\n",
    "    * `len(d)` - duljina dictionaryja\n",
    "* kreiranje\n",
    "    * `{k1 : v1, k2 : v2, ...}`\n",
    "    * pomoću `dict()` : `d=dict(k1 = v1, k2 = v2, ...)`"
   ]
  },
  {
   "cell_type": "markdown",
   "metadata": {},
   "source": [
    "Izvršite sljedeće naredbe i pokušajte predvidjeti rezultate prije pokretanja."
   ]
  },
  {
   "cell_type": "code",
   "execution_count": null,
   "metadata": {},
   "outputs": [],
   "source": [
    "d = {'ana' : 23, 'banana' : 25}\n",
    "print(d['banana'])"
   ]
  },
  {
   "cell_type": "code",
   "execution_count": null,
   "metadata": {},
   "outputs": [],
   "source": [
    "d['banana'] += 3\n",
    "print(d['banana'])"
   ]
  },
  {
   "cell_type": "code",
   "execution_count": null,
   "metadata": {},
   "outputs": [],
   "source": [
    "d['nana'] = 4\n",
    "\n",
    "del d['banana']\n"
   ]
  },
  {
   "cell_type": "code",
   "execution_count": null,
   "metadata": {},
   "outputs": [],
   "source": [
    "for i in d:\n",
    "    print(i)"
   ]
  },
  {
   "cell_type": "markdown",
   "metadata": {},
   "source": [
    "##  `dict` metode"
   ]
  },
  {
   "cell_type": "markdown",
   "metadata": {},
   "source": [
    "- `d.keys()` vraća listu ključeva\n",
    "- `d.values()` vraća listu vrijednosti\n",
    "- `d.items()` vraća listu key-value parova"
   ]
  },
  {
   "cell_type": "code",
   "execution_count": null,
   "metadata": {},
   "outputs": [],
   "source": [
    "for i in d.keys():\n",
    "    print(i)"
   ]
  },
  {
   "cell_type": "code",
   "execution_count": null,
   "metadata": {},
   "outputs": [],
   "source": [
    "for val in d.values():\n",
    "    print(val)"
   ]
  },
  {
   "cell_type": "code",
   "execution_count": null,
   "metadata": {},
   "outputs": [],
   "source": [
    "for key, val in d.items():\n",
    "    print(key, val)"
   ]
  },
  {
   "cell_type": "markdown",
   "metadata": {},
   "source": [
    "- `d.update(d2)` dodaje parove key-value iz `d2`\n",
    "- `d.copy()` vraća kopiju dictionaryja (shallow copy)\n",
    "- `d.deepcopy()` vraća kopiju dictionaryja (deep copy)\n",
    "- `d.clear()` briše sve elemente u `d`"
   ]
  },
  {
   "cell_type": "code",
   "execution_count": null,
   "metadata": {},
   "outputs": [],
   "source": [
    "d1 = dict(a = [1,2,3], b = 10, c = '110')\n",
    "d2 = {'c' : 5}\n",
    "print('d1 = ', d1)\n",
    "print('d2 = ', d2)\n",
    "\n",
    "\n",
    "d1.update(d2)\n",
    "d2.clear()\n",
    "print('d1 = ', d1)\n",
    "print('d2 = ', d2)\n"
   ]
  },
  {
   "cell_type": "code",
   "execution_count": null,
   "metadata": {},
   "outputs": [],
   "source": [
    "d1['a'] += [4,5]\n",
    "print(d1)"
   ]
  },
  {
   "cell_type": "code",
   "execution_count": null,
   "metadata": {},
   "outputs": [],
   "source": [
    "d2 = dict.copy(d1)\n",
    "print('d1 = ', d1)\n",
    "print('d2 = ', d2)\n",
    "\n",
    "d2['a'].append(10)\n",
    "print('d1 = ', d1)\n",
    "print('d2 = ', d2)\n"
   ]
  },
  {
   "cell_type": "code",
   "execution_count": null,
   "metadata": {},
   "outputs": [],
   "source": [
    "import copy\n",
    "d2 = copy.deepcopy(d1)\n",
    "print('d1 = ', d1)\n",
    "print('d2 = ', d2)\n",
    "\n",
    "d2['a'].append(20)\n",
    "print('d1 = ', d1)\n",
    "print('d2 = ', d2)"
   ]
  },
  {
   "cell_type": "markdown",
   "metadata": {},
   "source": [
    "## `OrderedDict`"
   ]
  },
  {
   "cell_type": "markdown",
   "metadata": {},
   "source": [
    "- Klasa izvedena iz `dict`\n",
    "- Za razliku od običnog dictionaryja, `OrderedDict` čuva poredak u kojem su elementi dodani u kolekciju. \n",
    "- Dio je modula `collections`\n",
    "\n",
    "\n",
    "Usporedite:"
   ]
  },
  {
   "cell_type": "code",
   "execution_count": null,
   "metadata": {},
   "outputs": [],
   "source": [
    "d1 = {}\n",
    "d1['a'] = 1\n",
    "d1['b'] = 2\n",
    "d1['c'] = 3\n",
    "d1['d'] = 4\n",
    "d1['e'] = 5\n",
    "print(d1)\n",
    "\n",
    "d2 = {}\n",
    "d2['e'] = 5\n",
    "d2['d'] = 4\n",
    "d2['c'] = 3\n",
    "d2['b'] = 2\n",
    "d2['a'] = 1\n",
    "print(d2)\n",
    "\n",
    "print (d1 == d2)\n",
    "\n"
   ]
  },
  {
   "cell_type": "code",
   "execution_count": null,
   "metadata": {},
   "outputs": [],
   "source": [
    "import collections\n",
    "d1 = collections.OrderedDict()\n",
    "d1['a'] = 1\n",
    "d1['b'] = 2\n",
    "d1['c'] = 3\n",
    "d1['d'] = 4\n",
    "d1['e'] = 5\n",
    "print(d1)\n",
    "\n",
    "d2 = collections.OrderedDict()\n",
    "d2['e'] = 5\n",
    "d2['d'] = 4\n",
    "d2['c'] = 3\n",
    "d2['b'] = 2\n",
    "d2['a'] = 1\n",
    "print(d2)\n",
    "\n",
    "print (d1 == d2)"
   ]
  },
  {
   "cell_type": "markdown",
   "metadata": {},
   "source": [
    "## defaultdict\n",
    "\n",
    "- klasa izvedena iz `dict`\n",
    "- omogućava da ako mijenjamo vrijednost ključa koji ne postoji, ključu se pridjeli defaultna vrijednost"
   ]
  },
  {
   "cell_type": "code",
   "execution_count": null,
   "metadata": {},
   "outputs": [],
   "source": [
    "from collections import defaultdict\n",
    "s = 'sayonara'\n",
    "dd = defaultdict(int)\n",
    "for letter in s:\n",
    "    dd[letter] += 1\n",
    "    \n",
    "print(dd)"
   ]
  },
  {
   "cell_type": "markdown",
   "metadata": {},
   "source": [
    "Usporedba s obicnim dictionatyjem"
   ]
  },
  {
   "cell_type": "code",
   "execution_count": null,
   "metadata": {},
   "outputs": [],
   "source": [
    "s = 'sayonara'\n",
    "dd = dict()\n",
    "for letter in s:\n",
    "    dd[letter] += 1\n",
    "    \n",
    "print(dd)"
   ]
  },
  {
   "cell_type": "markdown",
   "metadata": {},
   "source": [
    "## Set (skup)"
   ]
  },
  {
   "cell_type": "markdown",
   "metadata": {},
   "source": [
    "- neuređena kolekcija elemenata u kojoj se svaki element pojavljuje samo jednom\n",
    "- dvije varijante: `set` (**mutabilna**) i `frozenset` (**nemutabilna**)\n",
    "- metode: `add`, `remove`, `copy`, `clear`\n",
    "- operacije nad setovima:`intersection`, `union`, `difference`, `symmetric_difference`, `issuperset` i `issubset`"
   ]
  },
  {
   "cell_type": "code",
   "execution_count": null,
   "metadata": {},
   "outputs": [],
   "source": [
    "s1 = {1,2}\n",
    "s2 = set([2,3,4])\n",
    "s1.intersection(s2)"
   ]
  },
  {
   "cell_type": "code",
   "execution_count": null,
   "metadata": {},
   "outputs": [],
   "source": [
    "s = set(\"ana\")\n",
    "s.add('n')\n",
    "s"
   ]
  },
  {
   "cell_type": "code",
   "execution_count": null,
   "metadata": {},
   "outputs": [],
   "source": [
    "s = frozenset(s)\n",
    "s"
   ]
  },
  {
   "cell_type": "code",
   "execution_count": null,
   "metadata": {},
   "outputs": [],
   "source": [
    "s.add('b') #error"
   ]
  },
  {
   "cell_type": "markdown",
   "metadata": {},
   "source": [
    "Set/frozenset mogu se napraviti iz bilo kojeg *iterable* objekta\n"
   ]
  },
  {
   "cell_type": "code",
   "execution_count": null,
   "metadata": {},
   "outputs": [],
   "source": [
    "lst = [1, 1, 2, 4, 5, 5]\n",
    "s1 = set(lst)\n",
    "print(s1)\n",
    "s2 = frozenset(lst)\n",
    "print(s2)"
   ]
  },
  {
   "cell_type": "markdown",
   "metadata": {},
   "source": [
    "Npr. iz ključeva dictionaryja"
   ]
  },
  {
   "cell_type": "code",
   "execution_count": null,
   "metadata": {},
   "outputs": [],
   "source": [
    "d = {1:'aaa', 2:'bbb'}\n",
    "s = set(d)\n",
    "s"
   ]
  }
 ],
 "metadata": {
  "kernelspec": {
   "display_name": "Python 3",
   "language": "python",
   "name": "python3"
  },
  "language_info": {
   "codemirror_mode": {
    "name": "ipython",
    "version": 3
   },
   "file_extension": ".py",
   "mimetype": "text/x-python",
   "name": "python",
   "nbconvert_exporter": "python",
   "pygments_lexer": "ipython3",
   "version": "3.7.3"
  }
 },
 "nbformat": 4,
 "nbformat_minor": 4
}