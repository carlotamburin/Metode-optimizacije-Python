{
 "cells": [
  {
   "cell_type": "markdown",
   "metadata": {},
   "source": [
    "# Python - funkcionalne karakteristike jezika\n",
    "\n",
    "**Programske paradigme u Pythonu**\n",
    "\n",
    " - proceduralno (funkcija, iteracija, uvjetne naredbe)\n",
    " - objektno orijentirano (klase, objekti, metode)\n",
    " - funkcionalno (**stateless**)\n",
    "\n",
    "Funkcije u Pythonu\n",
    "\n",
    " - funkcije su first class values\n",
    " - funkcije mogu biti argumenti funkcije\n",
    " - povratna vrijednost funkcije može biti funkcija\n",
    "\n",
    "\n",
    "\n",
    "\n",
    "**Funkcija kao argument**"
   ]
  },
  {
   "cell_type": "code",
   "execution_count": 2,
   "metadata": {},
   "outputs": [
    {
     "data": {
      "text/plain": [
       "30"
      ]
     },
     "execution_count": 2,
     "metadata": {},
     "output_type": "execute_result"
    }
   ],
   "source": [
    "def calc(f, a, b):\n",
    "     return f(a, b) \n",
    " \n",
    "def add(a, b):\n",
    "     return a + b\n",
    " \n",
    "def multi(a, b):\n",
    "     return a * b\n",
    "\n",
    "calc(add, 5, 6)\n",
    "calc(multi, 5, 6)"
   ]
  },
  {
   "cell_type": "markdown",
   "metadata": {},
   "source": [
    "## **Anonimne funkcije (`lambda`)**"
   ]
  },
  {
   "cell_type": "code",
   "execution_count": 3,
   "metadata": {},
   "outputs": [
    {
     "data": {
      "text/plain": [
       "30"
      ]
     },
     "execution_count": 3,
     "metadata": {},
     "output_type": "execute_result"
    }
   ],
   "source": [
    "def calc(f, a, b):\n",
    "     return f(a, b)\n",
    "\n",
    "calc(lambda a,b: a + b, 5, 6)\n",
    "calc(lambda a,b: a * b, 5, 6)"
   ]
  },
  {
   "cell_type": "markdown",
   "metadata": {},
   "source": [
    "## **map**\n",
    "\n",
    "Primjer: Uvećaj svaki element za jedan ili pomnoži svaki sa dva."
   ]
  },
  {
   "cell_type": "code",
   "execution_count": 19,
   "metadata": {},
   "outputs": [
    {
     "name": "stdout",
     "output_type": "stream",
     "text": [
      "[2, 4, 6, 8]\n"
     ]
    }
   ],
   "source": [
    "def incr(a):\n",
    "    return a + 1\n",
    "\n",
    "def double(a):\n",
    "    return a * 2\n",
    "\n",
    "def incr_each(elems):\n",
    "    res = []\n",
    "    for el in elems:\n",
    "        res.append(double(el))\n",
    "    return res\n",
    "\n",
    "lst = [1,2,3,4]\n",
    "lst = incr_each(lst)\n",
    "print(lst)"
   ]
  },
  {
   "cell_type": "markdown",
   "metadata": {},
   "source": [
    "- Koristeći `map`:"
   ]
  },
  {
   "cell_type": "code",
   "execution_count": 24,
   "metadata": {},
   "outputs": [
    {
     "name": "stdout",
     "output_type": "stream",
     "text": [
      "[3, 4, 5, 6]\n"
     ]
    }
   ],
   "source": [
    "lst = [2, 3, 4, 5]\n",
    "lst = map(incr, lst)\n",
    "print(list(lst))"
   ]
  },
  {
   "cell_type": "code",
   "execution_count": 27,
   "metadata": {},
   "outputs": [
    {
     "name": "stdout",
     "output_type": "stream",
     "text": [
      "[6, 9, 12, 15]\n"
     ]
    }
   ],
   "source": [
    "lst = [2, 3, 4, 5]\n",
    "lst = map(lambda a: a * 3, lst)\n",
    "print(list(lst))"
   ]
  },
  {
   "cell_type": "markdown",
   "metadata": {},
   "source": [
    "## **filter**\n",
    "\n",
    "Uzmi samo one elemente koji zadovoljavaju neki uvjet"
   ]
  },
  {
   "cell_type": "code",
   "execution_count": 28,
   "metadata": {},
   "outputs": [
    {
     "name": "stdout",
     "output_type": "stream",
     "text": [
      "[2, 4]\n"
     ]
    }
   ],
   "source": [
    "def filter_iter(elems):\n",
    "    res = []\n",
    "    for el in elems:\n",
    "        if el % 2 == 0:\n",
    "            res.append(el)\n",
    "    return res\n",
    "\n",
    "lst = [1,2,3,4]\n",
    "lst = filter_iter(lst)\n",
    "print(lst)"
   ]
  },
  {
   "cell_type": "markdown",
   "metadata": {},
   "source": [
    "- Koristeći `filter`:"
   ]
  },
  {
   "cell_type": "code",
   "execution_count": 29,
   "metadata": {},
   "outputs": [
    {
     "name": "stdout",
     "output_type": "stream",
     "text": [
      "[2, 4]\n"
     ]
    }
   ],
   "source": [
    "lst = filter(lambda a: a % 2 == 0 , lst)\n",
    "print(list(lst))"
   ]
  },
  {
   "cell_type": "markdown",
   "metadata": {},
   "source": [
    "## **reduce**\n",
    "\n",
    "Akumulira rezultat\n"
   ]
  },
  {
   "cell_type": "code",
   "execution_count": 32,
   "metadata": {},
   "outputs": [
    {
     "name": "stdout",
     "output_type": "stream",
     "text": [
      "10\n"
     ]
    }
   ],
   "source": [
    "lst = [1,2,3,4]\n",
    "s = 0\n",
    "for el in lst:\n",
    "    s += el\n",
    "print(s)"
   ]
  },
  {
   "cell_type": "markdown",
   "metadata": {},
   "source": [
    "- Koristeći `reduce`\n"
   ]
  },
  {
   "cell_type": "code",
   "execution_count": 30,
   "metadata": {},
   "outputs": [
    {
     "name": "stdout",
     "output_type": "stream",
     "text": [
      "10\n"
     ]
    }
   ],
   "source": [
    "from functools import reduce\n",
    "lst = [1,2,3,4]\n",
    "res = reduce(lambda accum, el: accum + el , lst, 0)\n",
    "print(res)"
   ]
  },
  {
   "cell_type": "markdown",
   "metadata": {},
   "source": [
    "## Generatori\n",
    " - **Generatori** su iteratori po kojima možemo iterirati samo jednom.\n",
    " - Ne spremaju se sve vrijednosti u memoriju, nego se generiraju 'on the fly'.\n",
    " - Koriste se tako da se iterira po njima.\n",
    " - Najčešće implementirani u funkcijama koje ne vraćaju vrijednost sa `return`, nego s `yield`.\n"
   ]
  },
  {
   "cell_type": "code",
   "execution_count": 33,
   "metadata": {},
   "outputs": [],
   "source": [
    "import math\n",
    "def distance_list(lst, x, y):\n",
    "    # lista udaljenosti do tocke (x, y)\n",
    "    res = []\n",
    "    for el in lst:\n",
    "        dx = (el[0] - x)**2\n",
    "        dy = (el[1] - y)**2\n",
    "        res.append(math.sqrt(dx + dy))\n",
    "    return res "
   ]
  },
  {
   "cell_type": "code",
   "execution_count": 34,
   "metadata": {},
   "outputs": [],
   "source": [
    "def distance_gen(lst, x, y):    \n",
    "    # generator udaljenosti do tocke (x, y)\n",
    "        \n",
    "    for el in lst:\n",
    "        dx = (el[0] - x)**2\n",
    "        dy = (el[1] - y)**2\n",
    "        \n",
    "        yield math.sqrt(dx + dy)"
   ]
  },
  {
   "cell_type": "markdown",
   "metadata": {},
   "source": [
    "Poziv funkcije može biti isti, jer su i lista i generator iterabilni."
   ]
  },
  {
   "cell_type": "code",
   "execution_count": 37,
   "metadata": {},
   "outputs": [
    {
     "name": "stdout",
     "output_type": "stream",
     "text": [
      "<class 'generator'>\n",
      "5.0\n",
      "10.0\n"
     ]
    }
   ],
   "source": [
    "def main():\n",
    "    lst = [(3,4),(6,8)]\n",
    "    res = distance_gen(lst, 0, 0)\n",
    "    print(type(res))\n",
    "    for el in res:\n",
    "        print(el)\n",
    "    \n",
    "main()"
   ]
  },
  {
   "cell_type": "markdown",
   "metadata": {},
   "source": [
    "- Generatori zauzimaju manje memorije i brži su.\n"
   ]
  },
  {
   "cell_type": "code",
   "execution_count": null,
   "metadata": {},
   "outputs": [],
   "source": []
  }
 ],
 "metadata": {
  "kernelspec": {
   "display_name": "Python 3",
   "language": "python",
   "name": "python3"
  },
  "language_info": {
   "codemirror_mode": {
    "name": "ipython",
    "version": 3
   },
   "file_extension": ".py",
   "mimetype": "text/x-python",
   "name": "python",
   "nbconvert_exporter": "python",
   "pygments_lexer": "ipython3",
   "version": "3.7.3"
  }
 },
 "nbformat": 4,
 "nbformat_minor": 4
}
