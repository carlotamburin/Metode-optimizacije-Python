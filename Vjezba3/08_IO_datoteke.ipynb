{
 "cells": [
  {
   "cell_type": "markdown",
   "metadata": {},
   "source": [
    "# I/O\n",
    "\n",
    " **standardni ulaz i izlaz**\n",
    " \n",
    "- `print expr1, expr2` objekt bilo kojeg tipa konvertira u string\n",
    "- u Python 3.x print je funkcija\n",
    "- `input(), raw_input()`, Python 3.x samo `input()`\n",
    "- Python 2.x\n",
    "- `raw\\_input()} vraća string\n",
    "- `input()` izvodi `eval()` na stringu"
   ]
  },
  {
   "cell_type": "code",
   "execution_count": null,
   "metadata": {},
   "outputs": [],
   "source": [
    "a = input()"
   ]
  },
  {
   "cell_type": "code",
   "execution_count": null,
   "metadata": {},
   "outputs": [],
   "source": [
    "a + 2 #error"
   ]
  },
  {
   "cell_type": "code",
   "execution_count": null,
   "metadata": {},
   "outputs": [],
   "source": [
    "a + '2'"
   ]
  },
  {
   "cell_type": "markdown",
   "metadata": {},
   "source": [
    "**standardni ulaz i izla**\n",
    " \n",
    "- Python 3.x\n",
    "  \n",
    " - `input()` vraća string\n",
    " - za evaluaciju `eval(input())`"
   ]
  },
  {
   "cell_type": "code",
   "execution_count": null,
   "metadata": {},
   "outputs": [],
   "source": [
    "a = eval(input())"
   ]
  },
  {
   "cell_type": "code",
   "execution_count": null,
   "metadata": {},
   "outputs": [],
   "source": [
    "a + 1"
   ]
  },
  {
   "cell_type": "markdown",
   "metadata": {},
   "source": [
    "# Rad s datotekama\n",
    " **File objekt**\n",
    "\n",
    " - kreira se sa `open()`\n",
    " - čitanje blok po blok ili liniju po liniju \n",
    " - pisanje\n",
    " - seek\n",
    " - flush\n",
    " - zatvaranje s `close` ili garbage collector\n",
    "\n",
    " \n",
    "\n",
    "\n",
    " **Otvaranje datoteke**\n",
    " `file_object = open(name [, mode])`\n",
    " \n",
    "- `name` je ime datoteke\n",
    "- `mode` je mod otvaranja (`r`, `w`, `a`, `r+`, `w+`, `b`)\n",
    "- `file_object` je iterabilan "
   ]
  },
  {
   "cell_type": "code",
   "execution_count": null,
   "metadata": {},
   "outputs": [],
   "source": [
    "f = open(\"01_uvod.ipynb\")"
   ]
  },
  {
   "cell_type": "code",
   "execution_count": null,
   "metadata": {},
   "outputs": [],
   "source": [
    "f"
   ]
  },
  {
   "cell_type": "code",
   "execution_count": null,
   "metadata": {},
   "outputs": [],
   "source": [
    "f.name"
   ]
  },
  {
   "cell_type": "code",
   "execution_count": null,
   "metadata": {},
   "outputs": [],
   "source": [
    "f.mode"
   ]
  },
  {
   "cell_type": "code",
   "execution_count": null,
   "metadata": {},
   "outputs": [],
   "source": [
    "f.close()"
   ]
  },
  {
   "cell_type": "markdown",
   "metadata": {},
   "source": [
    " **Otvaranje datoteke**"
   ]
  },
  {
   "cell_type": "code",
   "execution_count": null,
   "metadata": {
    "jupyter": {
     "outputs_hidden": true
    }
   },
   "outputs": [],
   "source": [
    "with open(\"01_uvod.ipynb\",'r') as f:\n",
    "    for line in f:\n",
    "        print(line, end='')"
   ]
  },
  {
   "cell_type": "markdown",
   "metadata": {},
   "source": [
    "- Naredba `with` koristi *context manager*: poziva se metoda `__enter__`, izvršavaju se naredbe, na kraju se poziva metoda `exit` (zatvaranje datoteke)\n",
    "- Metoda `exit` se poziva i ako se dogodila iznimka prilikom izvođenja naredbi.\n",
    "\n",
    "**Lokacija datoteke**\n",
    "\n",
    "- Kad se navodi samo ime datoteke, ona se traži u tekućem direktoriju (engl.~*working directory*).\n",
    "- Lokacija datoteke može biti relativna u odnosu na tekući direktorij ili apsolutna.\n",
    "- OS-X, Linux, Unix: delimiter je `'/'`\n",
    "- Windows: delimiter je `'\\'` \n",
    "- koristiti `r('raw_string')` ili `'\\\\'`\n",
    "  \n",
    "\n",
    " \n",
    "\n",
    "**Čitanje iz datoteke**\n",
    "\n",
    "`block = f.read(n)` - čita najviše `n` bajtova, vraća string\n",
    "\n",
    "`block = f.read()` - čita čitavu datoteku, vraća string\n",
    "\n",
    "`line = f.readline()` - čita cijelu liniju, vraća string\n",
    "\n",
    "`line = f.readline(n)` - čita `n` linije\n",
    "\n",
    "`line = f.readlines()` - čita sve linije, vraća listu stringova\n",
    "\n",
    "`line = f.readlines(sizehint)` - čita `sizehint` bajtova, pa do kraja tekuće linije"
   ]
  },
  {
   "cell_type": "code",
   "execution_count": null,
   "metadata": {},
   "outputs": [],
   "source": [
    "f = open('upute.txt')\n",
    "while 1:\n",
    "    line = f.readline()\n",
    "    if line == '':\n",
    "        break\n",
    "    print (line)\n",
    "f.close()"
   ]
  },
  {
   "cell_type": "markdown",
   "metadata": {},
   "source": [
    "**Čitanje iz datoteke**\n",
    " \n",
    "- Za manje datoteke dobre su `read` funkcije.\n",
    "- Za veće datoteke dobro je koristiti iteriranje po file generatoru.\n"
   ]
  },
  {
   "cell_type": "code",
   "execution_count": null,
   "metadata": {},
   "outputs": [],
   "source": [
    "f = open('foo.txt')\n",
    "for line in f:\n",
    "    print (line)\n",
    "f.close() "
   ]
  },
  {
   "cell_type": "markdown",
   "metadata": {},
   "source": [
    "**Pisanje u datoteku**\n",
    "\n",
    "`f.write(s)`\n",
    "\n",
    "`print(s, file=f)`\n",
    " \n",
    " - piše string u datoteku\n",
    " - mora primiti string\n",
    " - pisanje se baferira, `flush` ili `close` će napraviti operaciju vidljivom\n",
    "\n",
    " \n",
    "\n",
    "\n",
    "**Operacije s datotekama**\n",
    "\n",
    " - prilikom čitanja datoteke dobije se string\n",
    " - za pisanje u datoteku također nam je potreban string\n",
    "\n"
   ]
  },
  {
   "cell_type": "markdown",
   "metadata": {},
   "source": [
    "## modul `pickle`\n",
    "\n",
    "Možemo koristiti modul `pickle`. \n",
    "\n",
    " - *pickling* je proces u kojem se hijerarhija objekata konvertira u byte stream\n",
    " - *unpickling* je proces u kojem se *byte stream* konvertira nazad u hijerarhiju objekata\n",
    "\n",
    "Ostala imena za *pickling* su **serijalizacja**, **marshalling** ili **flattening** \n",
    "\n",
    "**pickle - primjer**"
   ]
  },
  {
   "cell_type": "code",
   "execution_count": null,
   "metadata": {},
   "outputs": [],
   "source": [
    "import pickle\n",
    "\n",
    "def write_to_file(filename, d, lst):\n",
    "    f = open(filename, 'wb')\n",
    "    pickle.dump(d, f)\n",
    "    pickle.dump(lst,f)\n",
    "    f.close()\n",
    "    \n",
    "def read_from_file(filename):\n",
    "    f = open(filename, 'rb')\n",
    "    d = pickle.load(f)\n",
    "    l = pickle.load(f)\n",
    "    f.close()\n",
    "    return d, l \n",
    "\n",
    "def main():\n",
    "    name = 'test.txt'\n",
    "    d = {1:'kamen', 2:'skare', 3:'papir'}\n",
    "    l = [2, 3, 'aaa']\n",
    "    write_to_file(name, d, l)\n",
    "    d1, l1 = read_from_file(name)\n",
    "    print (d1, l)\n",
    "    \n",
    "    if l == l1:\n",
    "        print ('uspjesno procitana datoteka')\n",
    "        \n",
    "if __name__=='__main__':\n",
    "    main()"
   ]
  },
  {
   "cell_type": "markdown",
   "metadata": {},
   "source": [
    " **pickle - kraća verzija**"
   ]
  },
  {
   "cell_type": "code",
   "execution_count": null,
   "metadata": {},
   "outputs": [],
   "source": [
    "import pickle\n",
    "\n",
    "def main():\n",
    "    filename = 'test.txt'\n",
    "    d = {1:'kamen', 2:'skare', 3:'papir'}\n",
    "    lst = [2, 3, 'aaa']\n",
    "    \n",
    "    #pisanje u datoteku\n",
    "    with open(filename, 'w') as f:\n",
    "        pickle.dump((d,lst), f)\n",
    "    \n",
    "    #citanje iz datoteke\n",
    "    with open(filename, 'r') as f:\n",
    "        d1, l1 = pickle.load(f)\n",
    "        \n",
    "    if lst == l1:\n",
    "        print 'uspjesno procitana lista'\n",
    "        \n",
    "if __name__=='__main__':\n",
    "    main()"
   ]
  },
  {
   "cell_type": "markdown",
   "metadata": {},
   "source": [
    "`pickle` je spor. Alternative:\n",
    "- json\n",
    "- `cPickle` napisan u c-u (do 1000 puta brži)\n"
   ]
  },
  {
   "cell_type": "markdown",
   "metadata": {},
   "source": [
    "## Čitanje i pisanje `csv` datoteka"
   ]
  },
  {
   "cell_type": "markdown",
   "metadata": {},
   "source": [
    "- čitanje "
   ]
  },
  {
   "cell_type": "code",
   "execution_count": null,
   "metadata": {},
   "outputs": [],
   "source": [
    "import csv\n",
    "with open('life.csv') as f:\n",
    "    reader = csv.reader(f, delimiter = ',')\n",
    "    for row in reader:\n",
    "        print(row)"
   ]
  },
  {
   "cell_type": "markdown",
   "metadata": {},
   "source": [
    "- pisanje\n"
   ]
  },
  {
   "cell_type": "code",
   "execution_count": null,
   "metadata": {},
   "outputs": [],
   "source": [
    "import csv\n",
    "iterable = [[1,2,3], [4,5,6]]\n",
    "with open('output.csv', 'w', newline = '') as f:\n",
    "    writer = csv.writer(f)\n",
    "    writer.writerows(iterable)"
   ]
  },
  {
   "cell_type": "markdown",
   "metadata": {},
   "source": [
    "https://docs.python.org/3/library/csv.html"
   ]
  },
  {
   "cell_type": "markdown",
   "metadata": {},
   "source": [
    "## Čitanje i pisanje `json` datoteka"
   ]
  },
  {
   "cell_type": "markdown",
   "metadata": {},
   "source": [
    "- u Pythonu JSON objekt je string"
   ]
  },
  {
   "cell_type": "code",
   "execution_count": 2,
   "metadata": {},
   "outputs": [],
   "source": [
    "gradovi = '{\"Hrvatska\": \"Zagreb\", \"Spanjolska\": [\"Barcelona\", \"Valencia\"]}'"
   ]
  },
  {
   "cell_type": "code",
   "execution_count": 20,
   "metadata": {},
   "outputs": [
    {
     "data": {
      "text/plain": [
       "str"
      ]
     },
     "execution_count": 20,
     "metadata": {},
     "output_type": "execute_result"
    }
   ],
   "source": [
    "type(gradovi)\n"
   ]
  },
  {
   "cell_type": "markdown",
   "metadata": {},
   "source": [
    "- možemo ga konvertirati u *dictionary*"
   ]
  },
  {
   "cell_type": "code",
   "execution_count": 4,
   "metadata": {},
   "outputs": [],
   "source": [
    "import json\n",
    "gradovi_dict = json.loads(gradovi)"
   ]
  },
  {
   "cell_type": "code",
   "execution_count": 5,
   "metadata": {},
   "outputs": [
    {
     "output_type": "execute_result",
     "data": {
      "text/plain": [
       "dict"
      ]
     },
     "metadata": {},
     "execution_count": 5
    }
   ],
   "source": [
    "type(gradovi_dict)"
   ]
  },
  {
   "cell_type": "markdown",
   "metadata": {},
   "source": [
    "- iz dictionaryja u JSON objekt"
   ]
  },
  {
   "cell_type": "code",
   "execution_count": 12,
   "metadata": {},
   "outputs": [],
   "source": [
    "gradovi = {\"Hrvatska\": \"Zagreb\", \"Spanjolska\": [\"Barcelona\", \"Valencia\"]}\n",
    "gradovi_json = json.dumps(gradovi)\n"
   ]
  },
  {
   "cell_type": "code",
   "execution_count": 13,
   "metadata": {},
   "outputs": [
    {
     "data": {
      "text/plain": [
       "str"
      ]
     },
     "execution_count": 13,
     "metadata": {},
     "output_type": "execute_result"
    }
   ],
   "source": [
    "type(gradovi_json)"
   ]
  },
  {
   "cell_type": "markdown",
   "metadata": {},
   "source": [
    "- Čitanje JSON datoteka"
   ]
  },
  {
   "cell_type": "code",
   "execution_count": 8,
   "metadata": {},
   "outputs": [
    {
     "output_type": "stream",
     "name": "stdout",
     "text": [
      "{'cells': [{'cell_type': 'markdown', 'metadata': {}, 'source': ['# I/O\\n', '\\n', ' **standardni ulaz i izlaz**\\n', ' \\n', '- `print expr1, expr2` objekt bilo kojeg tipa konvertira u string\\n', '- u Python 3.x print je funkcija\\n', '- `input(), raw_input()`, Python 3.x samo `input()`\\n', '- Python 2.x\\n', '- `raw\\\\_input()} vraÄ‡a string\\n', '- `input()` izvodi `eval()` na stringu']}, {'cell_type': 'code', 'execution_count': None, 'metadata': {}, 'outputs': [], 'source': ['a = input()']}, {'cell_type': 'code', 'execution_count': None, 'metadata': {}, 'outputs': [], 'source': ['a + 2 #error']}, {'cell_type': 'code', 'execution_count': None, 'metadata': {}, 'outputs': [], 'source': [\"a + '2'\"]}, {'cell_type': 'markdown', 'metadata': {}, 'source': ['**standardni ulaz i izla**\\n', ' \\n', '- Python 3.x\\n', '  \\n', ' - `input()` vraÄ‡a string\\n', ' - za evaluaciju `eval(input())`']}, {'cell_type': 'code', 'execution_count': None, 'metadata': {}, 'outputs': [], 'source': ['a = eval(input())']}, {'cell_type': 'code', 'execution_count': None, 'metadata': {}, 'outputs': [], 'source': ['a + 1']}, {'cell_type': 'markdown', 'metadata': {}, 'source': ['# Rad s datotekama\\n', ' **File objekt**\\n', '\\n', ' - kreira se sa `open()`\\n', ' - ÄŤitanje blok po blok ili liniju po liniju \\n', ' - pisanje\\n', ' - seek\\n', ' - flush\\n', ' - zatvaranje s `close` ili garbage collector\\n', '\\n', ' \\n', '\\n', '\\n', ' **Otvaranje datoteke**\\n', ' `file_object = open(name [, mode])`\\n', ' \\n', '- `name` je ime datoteke\\n', '- `mode` je mod otvaranja (`r`, `w`, `a`, `r+`, `w+`, `b`)\\n', '- `file_object` je iterabilan ']}, {'cell_type': 'code', 'execution_count': None, 'metadata': {}, 'outputs': [], 'source': ['f = open(\"01_uvod.ipynb\")']}, {'cell_type': 'code', 'execution_count': None, 'metadata': {}, 'outputs': [], 'source': ['f']}, {'cell_type': 'code', 'execution_count': None, 'metadata': {}, 'outputs': [], 'source': ['f.name']}, {'cell_type': 'code', 'execution_count': None, 'metadata': {}, 'outputs': [], 'source': ['f.mode']}, {'cell_type': 'code', 'execution_count': None, 'metadata': {}, 'outputs': [], 'source': ['f.close()']}, {'cell_type': 'markdown', 'metadata': {}, 'source': [' **Otvaranje datoteke**']}, {'cell_type': 'code', 'execution_count': None, 'metadata': {'jupyter': {'outputs_hidden': True}}, 'outputs': [], 'source': ['with open(\"01_uvod.ipynb\",\\'r\\') as f:\\n', '    for line in f:\\n', \"        print(line, end='')\"]}, {'cell_type': 'markdown', 'metadata': {}, 'source': ['- Naredba `with` koristi *context manager*: poziva se metoda `__enter__`, izvrĹˇavaju se naredbe, na kraju se poziva metoda `exit` (zatvaranje datoteke)\\n', '- Metoda `exit` se poziva i ako se dogodila iznimka prilikom izvoÄ‘enja naredbi.\\n', '\\n', '**Lokacija datoteke**\\n', '\\n', '- Kad se navodi samo ime datoteke, ona se traĹľi u tekuÄ‡em direktoriju (engl.~*working directory*).\\n', '- Lokacija datoteke moĹľe biti relativna u odnosu na tekuÄ‡i direktorij ili apsolutna.\\n', \"- OS-X, Linux, Unix: delimiter je `'/'`\\n\", \"- Windows: delimiter je `'\\\\'` \\n\", \"- koristiti `r('raw_string')` ili `'\\\\\\\\'`\\n\", '  \\n', '\\n', ' \\n', '\\n', '**ÄŚitanje iz datoteke**\\n', '\\n', '`block = f.read(n)` - ÄŤita najviĹˇe `n` bajtova, vraÄ‡a string\\n', '\\n', '`block = f.read()` - ÄŤita ÄŤitavu datoteku, vraÄ‡a string\\n', '\\n', '`line = f.readline()` - ÄŤita cijelu liniju, vraÄ‡a string\\n', '\\n', '`line = f.readline(n)` - ÄŤita `n` linije\\n', '\\n', '`line = f.readlines()` - ÄŤita sve linije, vraÄ‡a listu stringova\\n', '\\n', '`line = f.readlines(sizehint)` - ÄŤita `sizehint` bajtova, pa do kraja tekuÄ‡e linije']}, {'cell_type': 'code', 'execution_count': None, 'metadata': {}, 'outputs': [], 'source': [\"f = open('upute.txt')\\n\", 'while 1:\\n', '    line = f.readline()\\n', \"    if line == '':\\n\", '        break\\n', '    print (line)\\n', 'f.close()']}, {'cell_type': 'markdown', 'metadata': {}, 'source': ['**ÄŚitanje iz datoteke**\\n', ' \\n', '- Za manje datoteke dobre su `read` funkcije.\\n', '- Za veÄ‡e datoteke dobro je koristiti iteriranje po file generatoru.\\n']}, {'cell_type': 'code', 'execution_count': None, 'metadata': {}, 'outputs': [], 'source': [\"f = open('foo.txt')\\n\", 'for line in f:\\n', '    print (line)\\n', 'f.close() ']}, {'cell_type': 'markdown', 'metadata': {}, 'source': ['**Pisanje u datoteku**\\n', '\\n', '`f.write(s)`\\n', '\\n', '`print(s, file=f)`\\n', ' \\n', ' - piĹˇe string u datoteku\\n', ' - mora primiti string\\n', ' - pisanje se baferira, `flush` ili `close` Ä‡e napraviti operaciju vidljivom\\n', '\\n', ' \\n', '\\n', '\\n', '**Operacije s datotekama**\\n', '\\n', ' - prilikom ÄŤitanja datoteke dobije se string\\n', ' - za pisanje u datoteku takoÄ‘er nam je potreban string\\n', '\\n']}, {'cell_type': 'markdown', 'metadata': {}, 'source': ['## modul `pickle`\\n', '\\n', 'MoĹľemo koristiti modul `pickle`. \\n', '\\n', ' - *pickling* je proces u kojem se hijerarhija objekata konvertira u byte stream\\n', ' - *unpickling* je proces u kojem se *byte stream* konvertira nazad u hijerarhiju objekata\\n', '\\n', 'Ostala imena za *pickling* su **serijalizacja**, **marshalling** ili **flattening** \\n', '\\n', '**pickle - primjer**']}, {'cell_type': 'code', 'execution_count': None, 'metadata': {}, 'outputs': [], 'source': ['import pickle\\n', '\\n', 'def write_to_file(filename, d, lst):\\n', \"    f = open(filename, 'wb')\\n\", '    pickle.dump(d, f)\\n', '    pickle.dump(lst,f)\\n', '    f.close()\\n', '    \\n', 'def read_from_file(filename):\\n', \"    f = open(filename, 'rb')\\n\", '    d = pickle.load(f)\\n', '    l = pickle.load(f)\\n', '    f.close()\\n', '    return d, l \\n', '\\n', 'def main():\\n', \"    name = 'test.txt'\\n\", \"    d = {1:'kamen', 2:'skare', 3:'papir'}\\n\", \"    l = [2, 3, 'aaa']\\n\", '    write_to_file(name, d, l)\\n', '    d1, l1 = read_from_file(name)\\n', '    print (d1, l)\\n', '    \\n', '    if l == l1:\\n', \"        print ('uspjesno procitana datoteka')\\n\", '        \\n', \"if __name__=='__main__':\\n\", '    main()']}, {'cell_type': 'markdown', 'metadata': {}, 'source': [' **pickle - kraÄ‡a verzija**']}, {'cell_type': 'code', 'execution_count': None, 'metadata': {}, 'outputs': [], 'source': ['import pickle\\n', '\\n', 'def main():\\n', \"    filename = 'test.txt'\\n\", \"    d = {1:'kamen', 2:'skare', 3:'papir'}\\n\", \"    lst = [2, 3, 'aaa']\\n\", '    \\n', '    #pisanje u datoteku\\n', \"    with open(filename, 'w') as f:\\n\", '        pickle.dump((d,lst), f)\\n', '    \\n', '    #citanje iz datoteke\\n', \"    with open(filename, 'r') as f:\\n\", '        d1, l1 = pickle.load(f)\\n', '        \\n', '    if lst == l1:\\n', \"        print 'uspjesno procitana lista'\\n\", '        \\n', \"if __name__=='__main__':\\n\", '    main()']}, {'cell_type': 'markdown', 'metadata': {}, 'source': ['`pickle` je spor. Alternative:\\n', '- json\\n', '- `cPickle` napisan u c-u (do 1000 puta brĹľi)\\n']}, {'cell_type': 'markdown', 'metadata': {}, 'source': ['## ÄŚitanje i pisanje `csv` datoteka']}, {'cell_type': 'markdown', 'metadata': {}, 'source': ['- ÄŤitanje ']}, {'cell_type': 'code', 'execution_count': None, 'metadata': {}, 'outputs': [], 'source': ['import csv\\n', \"with open('life.csv') as f:\\n\", \"    reader = csv.reader(f, delimiter = ',')\\n\", '    for row in reader:\\n', '        print(row)']}, {'cell_type': 'markdown', 'metadata': {}, 'source': ['- pisanje\\n']}, {'cell_type': 'code', 'execution_count': None, 'metadata': {}, 'outputs': [], 'source': ['import csv\\n', 'iterable = [[1,2,3], [4,5,6]]\\n', \"with open('output.csv', 'w', newline = '') as f:\\n\", '    writer = csv.writer(f)\\n', '    writer.writerows(iterable)']}, {'cell_type': 'markdown', 'metadata': {}, 'source': ['https://docs.python.org/3/library/csv.html']}, {'cell_type': 'markdown', 'metadata': {}, 'source': ['## ÄŚitanje i pisanje `json` datoteka']}, {'cell_type': 'markdown', 'metadata': {}, 'source': ['- u Pythonu JSON objekt je string']}, {'cell_type': 'code', 'execution_count': 19, 'metadata': {}, 'outputs': [], 'source': ['gradovi = \\'{\"Hrvatska\": \"Zagreb\", \"Spanjolska\": [\"Barcelona\", \"Valencia\"]}\\'']}, {'cell_type': 'code', 'execution_count': 20, 'metadata': {}, 'outputs': [{'data': {'text/plain': ['str']}, 'execution_count': 20, 'metadata': {}, 'output_type': 'execute_result'}], 'source': ['type(gradovi)\\n']}, {'cell_type': 'markdown', 'metadata': {}, 'source': ['- moĹľemo ga konvertirati u *dictionary*']}, {'cell_type': 'code', 'execution_count': 21, 'metadata': {}, 'outputs': [], 'source': ['import json\\n', 'gradovi_dict = json.loads(gradovi)']}, {'cell_type': 'code', 'execution_count': 23, 'metadata': {}, 'outputs': [{'data': {'text/plain': ['dict']}, 'execution_count': 23, 'metadata': {}, 'output_type': 'execute_result'}], 'source': ['type(gradovi_dict)']}, {'cell_type': 'markdown', 'metadata': {}, 'source': ['- iz dictionaryja u JSON objekt']}, {'cell_type': 'code', 'execution_count': 12, 'metadata': {}, 'outputs': [], 'source': ['gradovi = {\"Hrvatska\": \"Zagreb\", \"Spanjolska\": [\"Barcelona\", \"Valencia\"]}\\n', 'gradovi_json = json.dumps(gradovi)\\n']}, {'cell_type': 'code', 'execution_count': 13, 'metadata': {}, 'outputs': [{'data': {'text/plain': ['str']}, 'execution_count': 13, 'metadata': {}, 'output_type': 'execute_result'}], 'source': ['type(gradovi_json)']}, {'cell_type': 'markdown', 'metadata': {}, 'source': ['- ÄŚitanje JSON datoteka']}, {'cell_type': 'code', 'execution_count': None, 'metadata': {}, 'outputs': [], 'source': [\"with open('08_IO_datoteke.ipynb') as f:\\n\", '    reader = json.load(f)\\n', 'print(reader)']}, {'cell_type': 'markdown', 'metadata': {}, 'source': ['- Pisanje u JSON datoteku']}, {'cell_type': 'code', 'execution_count': 24, 'metadata': {}, 'outputs': [], 'source': [\"with open('output.json', 'w') as f:\\n\", '    writer = json.dump(gradovi_dict, f)\\n', '    ']}, {'cell_type': 'code', 'execution_count': None, 'metadata': {}, 'outputs': [], 'source': []}], 'metadata': {'kernelspec': {'display_name': 'Python 3', 'language': 'python', 'name': 'python3'}, 'language_info': {'codemirror_mode': {'name': 'ipython', 'version': 3}, 'file_extension': '.py', 'mimetype': 'text/x-python', 'name': 'python', 'nbconvert_exporter': 'python', 'pygments_lexer': 'ipython3', 'version': '3.7.3'}}, 'nbformat': 4, 'nbformat_minor': 4}\n"
     ]
    },
    {
     "output_type": "execute_result",
     "data": {
      "text/plain": [
       "dict"
      ]
     },
     "metadata": {},
     "execution_count": 8
    }
   ],
   "source": [
    "with open('08_IO_datoteke.ipynb') as f:\n",
    "    reader = json.load(f)\n",
    "print(reader)\n",
    "type(reader)\n"
   ]
  },
  {
   "cell_type": "markdown",
   "metadata": {},
   "source": [
    "- Pisanje u JSON datoteku"
   ]
  },
  {
   "cell_type": "code",
   "execution_count": 24,
   "metadata": {},
   "outputs": [],
   "source": [
    "with open('output.json', 'w') as f:\n",
    "    writer = json.dump(gradovi_dict, f)\n",
    "    "
   ]
  },
  {
   "cell_type": "code",
   "execution_count": null,
   "metadata": {},
   "outputs": [],
   "source": []
  }
 ],
 "metadata": {
  "kernelspec": {
   "name": "Python 3.7.2 32-bit",
   "display_name": "Python 3.7.2 32-bit",
   "metadata": {
    "interpreter": {
     "hash": "19cce78db34762b74b0b5ae100c19daf8af7d1f6a259b3d9214f5ae782822e4e"
    }
   }
  },
  "language_info": {
   "codemirror_mode": {
    "name": "ipython",
    "version": 3
   },
   "file_extension": ".py",
   "mimetype": "text/x-python",
   "name": "python",
   "nbconvert_exporter": "python",
   "pygments_lexer": "ipython3",
   "version": "3.7.2-final"
  }
 },
 "nbformat": 4,
 "nbformat_minor": 4
}