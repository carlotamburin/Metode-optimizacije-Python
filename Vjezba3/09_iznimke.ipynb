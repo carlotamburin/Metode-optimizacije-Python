{
 "cells": [
  {
   "cell_type": "markdown",
   "metadata": {},
   "source": [
    "# Iznimke\n",
    "\n",
    " **Exceptions**\n",
    " \n",
    "\n",
    " - kada se dogodi *runtime error*, kreira se **iznimka** (engl.*exception*), program se zaustavlja i ispisuje se poruka o greški"
   ]
  },
  {
   "cell_type": "code",
   "execution_count": null,
   "metadata": {},
   "outputs": [],
   "source": [
    "22/0 # ZeroDivisionError "
   ]
  },
  {
   "cell_type": "code",
   "execution_count": null,
   "metadata": {},
   "outputs": [],
   "source": [
    "l = []\n",
    "l[2]  # IndexEror"
   ]
  },
  {
   "cell_type": "code",
   "execution_count": null,
   "metadata": {},
   "outputs": [],
   "source": [
    "dct = {}\n",
    "dct['kljuc'] # KeyError"
   ]
  },
  {
   "cell_type": "markdown",
   "metadata": {},
   "source": [
    " - koristeći `try` i `except` naredbe možemo rukovati iznimkom"
   ]
  },
  {
   "cell_type": "code",
   "execution_count": null,
   "metadata": {},
   "outputs": [],
   "source": [
    "filename = input('unesi ime datoteke ')\n",
    "try:\n",
    "    f = open(filename, 'r')\n",
    "except IOError:\n",
    "    print ('nema te datoteke')"
   ]
  },
  {
   "cell_type": "markdown",
   "metadata": {},
   "source": [
    " **Exceptions - raise**\n",
    " \n",
    "Možemo i sami podići iznimku"
   ]
  },
  {
   "cell_type": "code",
   "execution_count": null,
   "metadata": {},
   "outputs": [],
   "source": [
    "def input_odd():\n",
    "    n = int(input(\"unesi parni broj \"))\n",
    "    \n",
    "    if n % 2 != 0:\n",
    "        raise ValueError('nije paran')\n",
    "    \n",
    "    # mixamo tipove int i str - TypeError\n",
    "    n += 'aaa'\n",
    "    return n\n",
    "def main():\n",
    "    try:\n",
    "        n = input_odd()\n",
    "        print (n)\n",
    "    except ValueError as err:\n",
    "        print (err.args)\n",
    "    except TypeError as err:\n",
    "        print (err)\n",
    "    except:\n",
    "        print ('nepoznata greska')\n",
    "    print ('nastavljamo program ')\n",
    "main()\n"
   ]
  },
  {
   "cell_type": "markdown",
   "metadata": {},
   "source": [
    "**Exceptions - finally**\n",
    " \n",
    "- `else` se izvršava ako nije došto do iznimke\n",
    "- `finally` se izvršava bez obzira da li se dogodila iznimka"
   ]
  },
  {
   "cell_type": "code",
   "execution_count": null,
   "metadata": {},
   "outputs": [],
   "source": [
    "def concat(a, b):\n",
    "    try:\n",
    "        res = a + b\n",
    "        c = a / b\n",
    "    except TypeError:\n",
    "        print ('babe i zabe')\n",
    "    else:\n",
    "        print ('rezultat ', res)\n",
    "    finally:\n",
    "        print ('finally!!!')\n",
    "      \n",
    "print ('spajamo brojeve')\n",
    "concat(3, 4)\n"
   ]
  },
  {
   "cell_type": "code",
   "execution_count": null,
   "metadata": {},
   "outputs": [],
   "source": [
    "print ('spajamo str i int')\n",
    "concat('lala', 5)\n"
   ]
  },
  {
   "cell_type": "code",
   "execution_count": null,
   "metadata": {},
   "outputs": [],
   "source": [
    "print ('neuhvacena iznimka')\n",
    "concat (5, 0) "
   ]
  }
 ],
 "metadata": {
  "kernelspec": {
   "display_name": "Python 3",
   "language": "python",
   "name": "python3"
  },
  "language_info": {
   "codemirror_mode": {
    "name": "ipython",
    "version": 3
   },
   "file_extension": ".py",
   "mimetype": "text/x-python",
   "name": "python",
   "nbconvert_exporter": "python",
   "pygments_lexer": "ipython3",
   "version": "3.7.3"
  }
 },
 "nbformat": 4,
 "nbformat_minor": 4
}
